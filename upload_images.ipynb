{
 "cells": [
  {
   "cell_type": "markdown",
   "metadata": {},
   "source": [
    "# Attribution\n",
    "\n",
    "This notebook is a modified version of one shared with us by Martin Jones of the Francis Crick Institute. Thank you, Martin!"
   ]
  },
  {
   "cell_type": "code",
   "execution_count": null,
   "metadata": {},
   "outputs": [],
   "source": [
    "# if needed, pip install the panoptes-client\n",
    "#import sys\n",
    "#!{sys.executable} -m pip install --user panoptes-client -U "
   ]
  },
  {
   "cell_type": "markdown",
   "metadata": {},
   "source": [
    "## Set up Zooniverse project information\n",
    "\n",
    "Set variables that define the Zooniverse project and user and image directory containing jpegs to upload."
   ]
  },
  {
   "cell_type": "code",
   "execution_count": 15,
   "metadata": {},
   "outputs": [],
   "source": [
    "# unique zooniverse project id\n",
    "PROJECT_ID = \"h-spiers/etch-a-cell-mito-mega-mix\"\n",
    "\n",
    "# whether uploaded images are flipbooks of a few jpegs or a single jpeg\n",
    "IS_FLIPBOOK = True\n",
    "\n",
    "# only applies to flipbooks: number of\n",
    "# images above and below the central slice\n",
    "# of the flipbook\n",
    "# e.g. SPAN = 2 is the central slice plus 2 from above and 2 from below (a total of 5 images)\n",
    "# CAUTION: CHANGING THIS NUMBER MAY BREAK OTHER SCRIPTS!\n",
    "SPAN = 2\n",
    "\n",
    "# zooniverse username\n",
    "USERNAME = \"conradry\"\n",
    "\n",
    "# name of the subject set to be created\n",
    "SUBJECT_SET_NAME = \"Batch5a\"\n",
    "\n",
    "# whether this is a test if True, then\n",
    "# subjects won't be uploaded to zooniverse\n",
    "TESTING = False\n",
    "\n",
    "# local directory containing jpeg images for upload\n",
    "wdir = \"../batch5/extra_images/\""
   ]
  },
  {
   "cell_type": "markdown",
   "metadata": {},
   "source": [
    "## Upload images\n",
    "\n",
    "Login to Zooniverse, create the new subject set, add images/flipbooks and upload!"
   ]
  },
  {
   "cell_type": "code",
   "execution_count": 9,
   "metadata": {},
   "outputs": [],
   "source": [
    "from panoptes_client import Project, Panoptes, Subject, SubjectSet\n",
    "import glob\n",
    "import os\n",
    "import sys\n",
    "import getpass\n",
    "import re\n",
    "from tqdm import tqdm"
   ]
  },
  {
   "cell_type": "code",
   "execution_count": 10,
   "metadata": {},
   "outputs": [],
   "source": [
    "# This function builds the subject from the chosen set of images and attaches metadata\n",
    "def build_subject_flipbook(project, file_list, start_index, end_index):\n",
    "    subject = Subject() # Inititialise a subject\n",
    "    subject.links.project = project # ...attach it to a project\n",
    "    subject.metadata['Subject ID'] = start_index + SPAN # Add the names of the images\n",
    "    \n",
    "    # For loop to attach the images to the subject one-by-one\n",
    "    for i, idx in enumerate(range(start_index, end_index)):\n",
    "        fname = str(file_list[idx])\n",
    "        subject.add_location(fname)\n",
    "        subject.metadata['Image %d' % i] = os.path.basename(fname)\n",
    "        \n",
    "    subject.metadata['default_frame'] = SPAN + 1  # We want people to annotate the middle image\n",
    "    \n",
    "    # Metadata from here should be changed according to the data\n",
    "    # any keys are allowed for the metadata\n",
    "    subject.metadata['Microscope'] = 'VolumeEM'\n",
    "    subject.metadata['Raw XY resolution (nm)'] = 1\n",
    "    subject.metadata['Raw Z resolution (nm)'] = 1\n",
    "    subject.metadata['Scaling factor'] = 1\n",
    "    subject.metadata['jpeg quality (%)'] = 100\n",
    "    subject.metadata['Attribution'] = 'CEM1.5M'\n",
    "    subject.metadata['Description'] = 'CEM1.5M_Batch_Mitos'\n",
    "    print(\"Starting to save\")\n",
    "    print(subject)\n",
    "    subject.save()\n",
    "    print(\"Subject saved\")\n",
    "\n",
    "    return subject\n",
    "\n",
    "def build_subject_image(project, file_list, index):\n",
    "    subject = Subject() # Inititialise a subject\n",
    "    subject.links.project = project # ...attach it to a project\n",
    "    subject.metadata['Subject ID'] = index\n",
    "    \n",
    "    # For loop to attach the images to the subject one-by-one\n",
    "    fname = str(file_list[index])\n",
    "    subject.add_location(fname)\n",
    "    subject.metadata['Image 0'] = os.path.basename(fname)\n",
    "        \n",
    "    #subject.metadata['default_frame'] = 0  # We want people to annotate the middle image\n",
    "    \n",
    "    # Metadata from here should be changed according to the data\n",
    "    # any keys are allowed for the metadata\n",
    "    subject.metadata['Microscope'] = 'TEM'\n",
    "    subject.metadata['Raw XY resolution (nm)'] = 1\n",
    "    subject.metadata['Raw Z resolution (nm)'] = 1\n",
    "    subject.metadata['Scaling factor'] = 1\n",
    "    subject.metadata['jpeg quality (%)'] = 100\n",
    "    subject.metadata['Attribution'] = 'CEM1.5M'\n",
    "    subject.metadata['Description'] = 'CEM1.5M_Batch_Mitos'\n",
    "    print(\"Starting to save\")\n",
    "    print(subject)\n",
    "    subject.save()\n",
    "    print(\"Subject saved\")\n",
    "\n",
    "    return subject"
   ]
  },
  {
   "cell_type": "markdown",
   "metadata": {},
   "source": [
    "This function connects to the Zooniverse, make sure the Project ID and username were set correctly earlier."
   ]
  },
  {
   "cell_type": "code",
   "execution_count": 11,
   "metadata": {},
   "outputs": [],
   "source": [
    "def connect_to_zooniverse(project_id=PROJECT_ID, user_name=USERNAME):\n",
    "    try:\n",
    "        password = getpass.getpass(prompt='Password: ', stream=None)\n",
    "        Panoptes.connect(username=user_name, password=password)\n",
    "        print(\"Connected to Zooniverse\")\n",
    "    except Exception as e:\n",
    "        print(\"Couldn't connect to Zooniverse\")\n",
    "        print(\"Exception {}\".format(e))\n",
    "        sys.exit(1)\n",
    "        \n",
    "    print(f\"Connecting to {project_id}...\")\n",
    "    project = Project.find(slug=project_id)\n",
    "    print(\"...connected!\")\n",
    "    return project"
   ]
  },
  {
   "cell_type": "code",
   "execution_count": 12,
   "metadata": {},
   "outputs": [],
   "source": [
    "# Helper function to initialise a \"subject set\" and attach it to a project\n",
    "def initialise_subject_set(project, subject_name):\n",
    "    subject_set = SubjectSet()\n",
    "    subject_set.links.project = project\n",
    "    subject_set.display_name = subject_name\n",
    "    subject_set.save()\n",
    "    return subject_set\n",
    "\n",
    "# Function to build a subject set from a fixed range of images\n",
    "def build_subject_set_flipbook(project, file_list, file_idx_start, file_idx_stop):\n",
    "    print(f\"project {project}\\n\", \n",
    "          f\"file_idx_start {file_idx_start}\\n\", \n",
    "          f\"file_idx_stop {file_idx_stop}\\n\"\n",
    "         )\n",
    "    \n",
    "    print(f\"Building subject set from files {file_idx_start}-{file_idx_stop}\")\n",
    "    subjects = []\n",
    "    \n",
    "    subject = build_subject_flipbook(project, file_list, file_idx_start, file_idx_stop)\n",
    "    subjects.append(subject)\n",
    "    \n",
    "    return subjects\n",
    "\n",
    "def build_subject_set_image(project, file_list, file_idx):\n",
    "    print(f\"project {project}\\n\", \n",
    "          f\"file_idx {file_idx}\\n\"\n",
    "         )\n",
    "    \n",
    "    print(f\"Building subject set from file {file_idx}\")\n",
    "    subjects = []\n",
    "\n",
    "    subject = build_subject_image(project, file_list, file_idx)\n",
    "    subjects.append(subject)\n",
    "    \n",
    "    return subjects"
   ]
  },
  {
   "cell_type": "markdown",
   "metadata": {},
   "source": [
    "Connect to the Zooniverse using your credentials"
   ]
  },
  {
   "cell_type": "code",
   "execution_count": 6,
   "metadata": {},
   "outputs": [
    {
     "name": "stdout",
     "output_type": "stream",
     "text": [
      "Password: ········\n",
      "Connected to Zooniverse\n",
      "Connecting to h-spiers/etch-a-cell-mito-mega-mix...\n",
      "...connected!\n"
     ]
    }
   ],
   "source": [
    "project = connect_to_zooniverse(project_id=PROJECT_ID)"
   ]
  },
  {
   "cell_type": "code",
   "execution_count": 16,
   "metadata": {},
   "outputs": [
    {
     "name": "stdout",
     "output_type": "stream",
     "text": [
      "num flipbooks: 15.0\n"
     ]
    }
   ],
   "source": [
    "# N.B. this will work for directories populated with jpg images\n",
    "# by either the prep_stacks.py or prep_images.py script\n",
    "\n",
    "file_list = sorted(glob.glob(os.path.join(wdir, '*.jpg')))\n",
    "n_files = len(file_list)\n",
    "\n",
    "file_basenames = [os.path.basename(file) for file in file_list]\n",
    "if IS_FLIPBOOK:\n",
    "    file_basename_prefixes = [file.split('_zloc')[0] for file in file_basenames]\n",
    "    indices = list(range(0, len(file_list) + 1, 5))\n",
    "    print('num flipbooks:', n_files / 5)\n",
    "else:\n",
    "    file_basename_prefixes = [file.split('.jpg')[0] for file in file_basenames]\n",
    "    indices = list(range(0, len(file_list)))\n",
    "    print('num images:', n_files)"
   ]
  },
  {
   "cell_type": "markdown",
   "metadata": {},
   "source": [
    "**Note: this can be a very slow process to upload!**"
   ]
  },
  {
   "cell_type": "code",
   "execution_count": null,
   "metadata": {},
   "outputs": [],
   "source": [
    "# create subject set of name defined above\n",
    "print(f\"Creating subject set name {SUBJECT_SET_NAME}\\n\")\n",
    "subject_set = initialise_subject_set(project, SUBJECT_SET_NAME)"
   ]
  },
  {
   "cell_type": "code",
   "execution_count": 20,
   "metadata": {
    "scrolled": true
   },
   "outputs": [
    {
     "name": "stdout",
     "output_type": "stream",
     "text": [
      "\n",
      "*******\n",
      "Step 0\n",
      "project <Project 15805>\n",
      " file_idx_start 0\n",
      " file_idx_stop 5\n",
      "\n",
      "Building subject set from files 0-5\n",
      "Starting to save\n",
      "<Subject None>\n",
      "Subject saved\n",
      "\n",
      "*******\n",
      "Step 1\n",
      "project <Project 15805>\n",
      " file_idx_start 5\n",
      " file_idx_stop 10\n",
      "\n",
      "Building subject set from files 5-10\n",
      "Starting to save\n",
      "<Subject None>\n",
      "Subject saved\n",
      "\n",
      "*******\n",
      "Step 2\n",
      "project <Project 15805>\n",
      " file_idx_start 10\n",
      " file_idx_stop 15\n",
      "\n",
      "Building subject set from files 10-15\n",
      "Starting to save\n",
      "<Subject None>\n",
      "Subject saved\n",
      "\n",
      "*******\n",
      "Step 3\n",
      "project <Project 15805>\n",
      " file_idx_start 15\n",
      " file_idx_stop 20\n",
      "\n",
      "Building subject set from files 15-20\n",
      "Starting to save\n",
      "<Subject None>\n",
      "Subject saved\n",
      "\n",
      "*******\n",
      "Step 4\n",
      "project <Project 15805>\n",
      " file_idx_start 20\n",
      " file_idx_stop 25\n",
      "\n",
      "Building subject set from files 20-25\n",
      "Starting to save\n",
      "<Subject None>\n",
      "Subject saved\n",
      "\n",
      "*******\n",
      "Step 5\n",
      "project <Project 15805>\n",
      " file_idx_start 25\n",
      " file_idx_stop 30\n",
      "\n",
      "Building subject set from files 25-30\n",
      "Starting to save\n",
      "<Subject None>\n",
      "Subject saved\n",
      "\n",
      "*******\n",
      "Step 6\n",
      "project <Project 15805>\n",
      " file_idx_start 30\n",
      " file_idx_stop 35\n",
      "\n",
      "Building subject set from files 30-35\n",
      "Starting to save\n",
      "<Subject None>\n",
      "Subject saved\n",
      "\n",
      "*******\n",
      "Step 7\n",
      "project <Project 15805>\n",
      " file_idx_start 35\n",
      " file_idx_stop 40\n",
      "\n",
      "Building subject set from files 35-40\n",
      "Starting to save\n",
      "<Subject None>\n",
      "Subject saved\n",
      "\n",
      "*******\n",
      "Step 8\n",
      "project <Project 15805>\n",
      " file_idx_start 40\n",
      " file_idx_stop 45\n",
      "\n",
      "Building subject set from files 40-45\n",
      "Starting to save\n",
      "<Subject None>\n",
      "Subject saved\n",
      "\n",
      "*******\n",
      "Step 9\n",
      "project <Project 15805>\n",
      " file_idx_start 45\n",
      " file_idx_stop 50\n",
      "\n",
      "Building subject set from files 45-50\n",
      "Starting to save\n",
      "<Subject None>\n",
      "Subject saved\n",
      "\n",
      "*******\n",
      "Step 10\n",
      "project <Project 15805>\n",
      " file_idx_start 50\n",
      " file_idx_stop 55\n",
      "\n",
      "Building subject set from files 50-55\n",
      "Starting to save\n",
      "<Subject None>\n",
      "Subject saved\n",
      "\n",
      "*******\n",
      "Step 11\n",
      "project <Project 15805>\n",
      " file_idx_start 55\n",
      " file_idx_stop 60\n",
      "\n",
      "Building subject set from files 55-60\n",
      "Starting to save\n",
      "<Subject None>\n",
      "Subject saved\n",
      "\n",
      "*******\n",
      "Step 12\n",
      "project <Project 15805>\n",
      " file_idx_start 60\n",
      " file_idx_stop 65\n",
      "\n",
      "Building subject set from files 60-65\n",
      "Starting to save\n",
      "<Subject None>\n",
      "Subject saved\n",
      "\n",
      "*******\n",
      "Step 13\n",
      "project <Project 15805>\n",
      " file_idx_start 65\n",
      " file_idx_stop 70\n",
      "\n",
      "Building subject set from files 65-70\n",
      "Starting to save\n",
      "<Subject None>\n",
      "Subject saved\n",
      "\n",
      "*******\n",
      "Step 14\n",
      "project <Project 15805>\n",
      " file_idx_start 70\n",
      " file_idx_stop 75\n",
      "\n",
      "Building subject set from files 70-75\n",
      "Starting to save\n",
      "<Subject None>\n",
      "Subject saved\n"
     ]
    }
   ],
   "source": [
    "# add images/flipbooks as subjects to the subject set\n",
    "subjects = []\n",
    "if IS_FLIPBOOK:\n",
    "    for counter, (start_index, end_index) in enumerate(zip(indices[:-1], indices[1:])):\n",
    "        print(f\"\\n*******\\nStep {counter}\")\n",
    "        subjects.append(build_subject_set_flipbook(project, file_list, start_index, end_index))\n",
    "else:\n",
    "    for counter, index in enumerate(indices):\n",
    "        print(f\"\\n*******\\nStep {counter}\")\n",
    "        subjects.append(build_subject_set_image(project, file_list, index))"
   ]
  },
  {
   "cell_type": "code",
   "execution_count": 21,
   "metadata": {},
   "outputs": [
    {
     "name": "stderr",
     "output_type": "stream",
     "text": [
      "100%|██████████| 15/15 [00:02<00:00,  7.24it/s]\n"
     ]
    }
   ],
   "source": [
    "# upload the subject sets to the Zooniverse\n",
    "if not TESTING:\n",
    "    for subj in tqdm(subjects):\n",
    "        subject_set.add(subj)"
   ]
  },
  {
   "cell_type": "markdown",
   "metadata": {},
   "source": [
    "## Add subject IDs\n",
    "\n",
    "Optionally add subject ids to each subjects metadata. This makes it possible for annotators to lookup and reference particular subjects for later review."
   ]
  },
  {
   "cell_type": "code",
   "execution_count": 17,
   "metadata": {},
   "outputs": [
    {
     "name": "stdout",
     "output_type": "stream",
     "text": [
      "{'display_name': 'Batch0', 'links': {'project': '15805', 'workflows': ['18276'], 'subjects': []}, 'metadata': {}, 'id': '95613', 'set_member_subjects_count': 41, 'created_at': '2021-06-04T12:52:47.940Z', 'updated_at': '2021-06-04T12:55:51.704Z', 'href': '/subject_sets/95613', 'completeness': {}}\n",
      "{'display_name': 'Batch2a', 'links': {'project': '15805', 'workflows': ['19199'], 'subjects': []}, 'metadata': {}, 'id': '96898', 'set_member_subjects_count': 700, 'created_at': '2021-07-23T16:38:06.557Z', 'updated_at': '2021-07-23T16:45:37.546Z', 'href': '/subject_sets/96898', 'completeness': {}}\n",
      "{'display_name': 'Batch2b', 'links': {'project': '15805', 'workflows': ['19378'], 'subjects': []}, 'metadata': {}, 'id': '96899', 'set_member_subjects_count': 665, 'created_at': '2021-07-23T16:52:43.070Z', 'updated_at': '2021-07-23T16:59:01.663Z', 'href': '/subject_sets/96899', 'completeness': {}}\n",
      "{'display_name': 'Batch3a', 'links': {'project': '15805', 'workflows': ['19464'], 'subjects': []}, 'metadata': {}, 'id': '97711', 'set_member_subjects_count': 857, 'created_at': '2021-08-27T16:13:28.551Z', 'updated_at': '2021-08-27T16:21:25.981Z', 'href': '/subject_sets/97711', 'completeness': {'19464': 1.0}}\n",
      "{'display_name': 'Batch3b', 'links': {'project': '15805', 'workflows': ['19465'], 'subjects': []}, 'metadata': {}, 'id': '97712', 'set_member_subjects_count': 817, 'created_at': '2021-08-27T16:29:10.077Z', 'updated_at': '2021-08-27T16:35:50.363Z', 'href': '/subject_sets/97712', 'completeness': {'19465': 1.0}}\n",
      "{'display_name': 'Batch4a', 'links': {'project': '15805', 'workflows': ['19972'], 'subjects': []}, 'metadata': {}, 'id': '98874', 'set_member_subjects_count': 626, 'created_at': '2021-10-22T16:38:26.496Z', 'updated_at': '2021-10-22T16:49:52.461Z', 'href': '/subject_sets/98874', 'completeness': {'19972': 0.9936102236421726}}\n",
      "{'display_name': 'Batch4b', 'links': {'project': '15805', 'workflows': ['19975'], 'subjects': []}, 'metadata': {}, 'id': '98875', 'set_member_subjects_count': 625, 'created_at': '2021-10-22T16:51:53.544Z', 'updated_at': '2021-10-22T17:02:09.268Z', 'href': '/subject_sets/98875', 'completeness': {'19975': 0.5184}}\n",
      "{'display_name': 'Batch5a', 'links': {'project': '15805', 'workflows': [], 'subjects': []}, 'metadata': {}, 'id': '99926', 'set_member_subjects_count': 474, 'created_at': '2021-11-30T15:23:03.070Z', 'updated_at': '2021-11-30T15:29:11.147Z', 'href': '/subject_sets/99926', 'completeness': {}}\n",
      "{'display_name': 'Batch5b', 'links': {'project': '15805', 'workflows': [], 'subjects': []}, 'metadata': {}, 'id': '99927', 'set_member_subjects_count': 497, 'created_at': '2021-11-30T15:27:37.529Z', 'updated_at': '2021-11-30T15:33:51.624Z', 'href': '/subject_sets/99927', 'completeness': {}}\n",
      "{'display_name': 'MitoSet1', 'links': {'project': '15805', 'workflows': [], 'subjects': []}, 'metadata': {}, 'id': '95286', 'set_member_subjects_count': 563, 'created_at': '2021-05-25T19:55:41.759Z', 'updated_at': '2021-05-25T20:21:49.634Z', 'href': '/subject_sets/95286', 'completeness': {}}\n"
     ]
    }
   ],
   "source": [
    "# load all subject sets in project and print their metadata\n",
    "subject_sets = SubjectSet.where(scope='project', project_id=project.id)\n",
    "ssets = list(subject_sets)\n",
    "\n",
    "for sset in ssets:\n",
    "    print(sset.raw)"
   ]
  },
  {
   "cell_type": "code",
   "execution_count": 18,
   "metadata": {},
   "outputs": [],
   "source": [
    "subject_set = ssets[-2]"
   ]
  },
  {
   "cell_type": "code",
   "execution_count": 19,
   "metadata": {},
   "outputs": [
    {
     "data": {
      "text/plain": [
       "<SubjectSet 99927>"
      ]
     },
     "execution_count": 19,
     "metadata": {},
     "output_type": "execute_result"
    }
   ],
   "source": [
    "subject_set"
   ]
  },
  {
   "cell_type": "code",
   "execution_count": null,
   "metadata": {},
   "outputs": [],
   "source": [
    "# get the subjects for one of the subject sets\n",
    "# (index 0 for illustration only)\n",
    "subjects = list(ssets[0].subjects)"
   ]
  },
  {
   "cell_type": "code",
   "execution_count": null,
   "metadata": {},
   "outputs": [],
   "source": [
    "# add ID key to the subject metadata\n",
    "#for subject in tqdm(subjects):\n",
    "#    subject.metadata['ID'] = subject.raw['id']\n",
    "#    subject.save()"
   ]
  },
  {
   "cell_type": "markdown",
   "metadata": {},
   "source": [
    "## Drop subject\n",
    "\n",
    "Delete subjects that were created accidentally."
   ]
  },
  {
   "cell_type": "code",
   "execution_count": null,
   "metadata": {},
   "outputs": [],
   "source": [
    "# load all subject sets in project and print their metadata\n",
    "subject_sets = SubjectSet.where(scope='project', project_id=project.id)\n",
    "ssets = list(subject_sets)\n",
    "\n",
    "for sset in ssets:\n",
    "    print(sset.raw)"
   ]
  },
  {
   "cell_type": "code",
   "execution_count": null,
   "metadata": {},
   "outputs": [],
   "source": [
    "# get the subjects for one of the subject sets\n",
    "# (index 0 for illustration only)\n",
    "subjects = list(ssets[0].subjects)"
   ]
  },
  {
   "cell_type": "code",
   "execution_count": null,
   "metadata": {},
   "outputs": [],
   "source": [
    "# delete the subjects!! use with care!!\n",
    "#for subject in tqdm(subjects):\n",
    "#    subject.delete()"
   ]
  }
 ],
 "metadata": {
  "kernelspec": {
   "display_name": "Python 3",
   "language": "python",
   "name": "python3"
  },
  "language_info": {
   "codemirror_mode": {
    "name": "ipython",
    "version": 3
   },
   "file_extension": ".py",
   "mimetype": "text/x-python",
   "name": "python",
   "nbconvert_exporter": "python",
   "pygments_lexer": "ipython3",
   "version": "3.7.10"
  }
 },
 "nbformat": 4,
 "nbformat_minor": 2
}
